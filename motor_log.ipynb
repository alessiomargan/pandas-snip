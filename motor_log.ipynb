{
 "cells": [
  {
   "cell_type": "code",
   "execution_count": null,
   "metadata": {},
   "outputs": [],
   "source": [
    "%run utils"
   ]
  },
  {
   "cell_type": "code",
   "execution_count": null,
   "metadata": {},
   "outputs": [],
   "source": [
    "col_names = \"time_ns pos_ref_fb link_pos motor_pos link_vel motor_vel torque board_T motor_T fault rtt op_idx_aux aux\".split()\n",
    "print(len(col_names),col_names)\n",
    "# read local file\n",
    "file = '/home/amargan/Downloads/gmv_fault_brake_log/CentAcESC_22_log.txt'\n",
    "#file = fdate\n",
    "data = pd.read_csv(file, sep=\"\\t\", names=col_names, index_col = False)\n",
    "data.info()"
   ]
  },
  {
   "cell_type": "code",
   "execution_count": null,
   "metadata": {},
   "outputs": [],
   "source": [
    "def plot (_data) :\n",
    "    _fig, _axes = plt.subplots(7,1, sharex='col', figsize=(25,25))\n",
    "    _data[col_names[1:4]].plot(ax=_axes[0])\n",
    "    _data[col_names[4:6]].plot(ax=_axes[1])\n",
    "    _data[col_names[12]].plot(ax=_axes[2],legend=True)\n",
    "    _data[col_names[6]].plot(ax=_axes[3],legend=True)\n",
    "    _data[col_names[7:9]].plot(ax=_axes[4],legend=True)\n",
    "    _data[col_names[10]].plot(ax=_axes[5],legend=True)\n",
    "    _data[col_names[9]].plot(ax=_axes[6],legend=True)\n",
    "    return _fig,_axes\n",
    "\n",
    "plt.tight_layout()\n",
    "fig, axes = plot(data[-10000:])"
   ]
  },
  {
   "cell_type": "code",
   "execution_count": null,
   "metadata": {},
   "outputs": [],
   "source": [
    "   \n",
    "ids = range(21,27)\n",
    "for motor_id in ids :\n",
    "    file = f'/home/amargan/Downloads/gmv_fault_brake_log/CentAcESC_{motor_id}_log.txt'\n",
    "    data = pd.read_csv(file, sep=\"\\t\", names=col_names, index_col = False)\n",
    "    plt.tight_layout()\n",
    "    fig, axes = plot(data[-10000:])\n",
    "    fig.suptitle(f'motor_last10k_{motor_id}.jpg')\n",
    "    plt.savefig(f'/home/amargan/Downloads/gmv_fault_brake_log/motor_last10k_{motor_id}.jpg', format='jpg')\n",
    "    fig, axes = plot(data)\n",
    "    fig.suptitle(f'motor_{motor_id}.jpg')\n",
    "    plt.savefig(f'/home/amargan/Downloads/gmv_fault_brake_log/motor_{motor_id}.jpg', format='jpg')\n",
    "    "
   ]
  },
  {
   "cell_type": "code",
   "execution_count": null,
   "metadata": {},
   "outputs": [],
   "source": []
  }
 ],
 "metadata": {
  "kernelspec": {
   "display_name": "data-science",
   "language": "python",
   "name": "python3"
  },
  "language_info": {
   "codemirror_mode": {
    "name": "ipython",
    "version": 3
   },
   "file_extension": ".py",
   "mimetype": "text/x-python",
   "name": "python",
   "nbconvert_exporter": "python",
   "pygments_lexer": "ipython3",
   "version": "3.9.7"
  },
  "orig_nbformat": 4
 },
 "nbformat": 4,
 "nbformat_minor": 2
}
