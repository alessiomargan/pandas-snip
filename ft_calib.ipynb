{
 "cells": [
  {
   "cell_type": "code",
   "execution_count": null,
   "source": [
    "import pandas as pd\n",
    "import math\n",
    "import numpy as np\n",
    "import requests\n",
    "from io import StringIO\n",
    "\n",
    "pd.__version__"
   ],
   "outputs": [],
   "metadata": {}
  },
  {
   "cell_type": "code",
   "execution_count": null,
   "source": [
    "def gitlab_raw_data(prj_id,prj_file,branch):\n",
    "    '''\n",
    "    read remote raw file from gitlab using api\n",
    "    GET /projects/:id/repository/files/:file_path/raw\n",
    "    file_path (required) - URL encoded full path to new file, such as lib%2Fclass%2Erb.\n",
    "    ref (optional) - The name of branch, tag or commit. Default is the HEAD of the project.\n",
    "    '''\n",
    "    prj_id_q = requests.utils.quote(prj_id,safe='')\n",
    "    prj_file_q = requests.utils.quote(prj_file,safe='')\n",
    "    #data_url = \"https://gitlab.advr.iit.it/api/v4/projects/hhmc-firmware%2Fmsp432-ft6/repository/files/calib%2Fsens_2%2Etxt/raw?ref=calib\"\n",
    "    data_url = f\"https://gitlab.advr.iit.it/api/v4/projects/{prj_id_q}/repository/files/{prj_file_q}/raw?ref={branch}\"\n",
    "    print(data_url)\n",
    "    headers = {\"PRIVATE-TOKEN\": \"MCBxyjeT61Bngox7Ktas\"}\n",
    "    return StringIO(requests.get(data_url,headers=headers).text)"
   ],
   "outputs": [],
   "metadata": {}
  },
  {
   "cell_type": "code",
   "execution_count": null,
   "source": [
    "#dL=0.044;  # position offset between sensors along z axis for WALKMAN feet\n",
    "#dL=0.0346; # position offset between sensors along z axis for mini45/50 sensors \n",
    "#dL=0.1737; # New setup distance from from mini 45 ATI to the foot sensor.\n",
    "#dL=0.065;  # New setup distance from from mini 45 ATI to the HERI hand sensor.\n",
    "dL=0.159;  # New setup distance from from mini 45 ATI to the cogimon foot sensor.\n",
    "#dL=0.0549; # New setup distance from from mini 45 ATI to the HERI hand sensor for Singapore.\n"
   ],
   "outputs": [],
   "metadata": {}
  },
  {
   "cell_type": "code",
   "execution_count": null,
   "source": [
    "col_names =str.split(\"time_ns sg1 sg2 sg3 sg4 sg5 sg6 fx fy fz tx ty tz\")\n",
    "# read local file\n",
    "data = pd.read_csv(\"sens.txt\", sep=\"\\t\", names=col_names)\n",
    "gitlab_file_arg = (\"hhmc-firmware/msp432-ft6\",\"calib/sens_1.txt\",\"calib\")\n",
    "#data = pd.read_csv(gitlab_raw_data(*gitlab_file_arg), sep=\"\\t\", names=col_names)\n",
    "#data = pd.DataFrame(np.arange(20).reshape(10,2))\n",
    "data.info()"
   ],
   "outputs": [],
   "metadata": {}
  },
  {
   "cell_type": "code",
   "execution_count": null,
   "source": [
    "clamp = 50 #1000\n",
    "lower_half = data[clamp:math.ceil(len(data)/2)]\n",
    "upper_half = data[math.ceil(len(data)/2):len(data)-clamp]\n",
    "# Strain gauge raw data matrix (sg1, sg2, sg3, sg4, sg5, sg6) \n",
    "# calibration matrix identification\n",
    "SGi = lower_half[col_names[1:7]].copy()\n",
    "# calibration matrix verification\n",
    "SGv = upper_half[col_names[1:7]].copy()\n",
    "# ATI force torque data  matrix (fx,fy,fz tx,ty,tz)\n",
    "# calibration matrix identification\n",
    "FTi = lower_half[col_names[7:13]].copy()\n",
    "# Map measured ATI Tx,Ty to our sensor frame at distance dL along z axis\n",
    "# correct Tx torque for the dL    Tx_IIT = Tx_ATI-Fy_ATI*DL\n",
    "FTi.tx -= FTi.fy*dL\n",
    "# correct Ty torque for the dL    Ty_IIT = Ty_ATI+Fx_ATI*DL\n",
    "FTi.ty += FTi.fx*dL\n",
    "# calibration matrix verification\n",
    "FTv = upper_half[col_names[7:13]].copy()\n",
    "# correct Tx torque for the dL    Tx_IIT = Tx_ATI-Fy_ATI*DL\n",
    "FTv.tx -= FTv.fy*dL\n",
    "# correct Ty torque for the dL    Ty_IIT = Ty_ATI+Fx_ATI*DL\n",
    "FTv.ty += FTv.fx*dL"
   ],
   "outputs": [],
   "metadata": {}
  },
  {
   "cell_type": "code",
   "execution_count": null,
   "source": [
    "#SGi_inv = pd.DataFrame(np.linalg.pinv(SGi.values), SGi.columns, SGi.index)\n",
    "#npSGi_inv = SGi_inv.to_numpy()\n",
    "\n",
    "npSGi = SGi.to_numpy()\n",
    "npSGi_inv = np.linalg.pinv(npSGi)\n",
    "npFTi = FTi.to_numpy()\n",
    "npCM = np.dot(npSGi_inv,npFTi)"
   ],
   "outputs": [],
   "metadata": {}
  },
  {
   "cell_type": "code",
   "execution_count": null,
   "source": [
    "dfCM = pd.DataFrame(data=npCM.T.astype(float))\n",
    "dfCM.to_csv('cal_mat.txt', sep=',', header=False, float_format='%.6f', index=False)"
   ],
   "outputs": [],
   "metadata": {}
  },
  {
   "cell_type": "code",
   "execution_count": null,
   "source": [
    "npCM.T.tofile('cal_mat.bin',format='%f')\n",
    "np.fromfile('cal_mat.bin')"
   ],
   "outputs": [],
   "metadata": {}
  },
  {
   "cell_type": "code",
   "execution_count": null,
   "source": [
    "np.identity(6).tofile('ones.bin',format='%f')\n",
    "np.fromfile('ones.bin')"
   ],
   "outputs": [],
   "metadata": {}
  },
  {
   "cell_type": "code",
   "execution_count": null,
   "source": [
    "def write_mat_sig(np_mat, filename):\n",
    "    with open(filename, \"wb\") as f:\n",
    "        #f.write(bytearray([0xFE,0xCA,0x00,0x00])+np_mat.tobytes())\n",
    "        #f.write(bytearray([0xFE,0xCA,0x00,0x00]))\n",
    "        f.write(bytearray([0xFE,0xCA,0x0,0x0]))\n",
    "        np_mat.tofile(f,format=\"%f\")\n",
    "    # test\n",
    "    with open(filename, \"rb\") as f:\n",
    "        np_back = np.fromfile(f,offset=4)\n",
    "\n",
    "    return np_back        \n",
    "\n",
    "ret = write_mat_sig(np.identity(6),\"ones.bin\")\n",
    "print(ret)\n",
    "ret = write_mat_sig(npCM.T,\"cal_mat.bin\")\n",
    "print(ret)"
   ],
   "outputs": [],
   "metadata": {}
  },
  {
   "cell_type": "code",
   "execution_count": null,
   "source": [
    "\n"
   ],
   "outputs": [],
   "metadata": {}
  },
  {
   "cell_type": "code",
   "execution_count": null,
   "source": [],
   "outputs": [],
   "metadata": {}
  }
 ],
 "metadata": {
  "orig_nbformat": 4,
  "language_info": {
   "name": "python",
   "version": "3.9.7",
   "mimetype": "text/x-python",
   "codemirror_mode": {
    "name": "ipython",
    "version": 3
   },
   "pygments_lexer": "ipython3",
   "nbconvert_exporter": "python",
   "file_extension": ".py"
  },
  "kernelspec": {
   "name": "python3",
   "display_name": "Python 3.9.7 64-bit ('data-science': conda)"
  },
  "interpreter": {
   "hash": "27fbfa57ea437d64eaadac92deaac3d14b9f2f93278575aac9f57770eea1bf30"
  }
 },
 "nbformat": 4,
 "nbformat_minor": 2
}