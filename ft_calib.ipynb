{
 "cells": [
  {
   "cell_type": "code",
   "execution_count": null,
   "metadata": {},
   "outputs": [],
   "source": [
    "%run utils"
   ]
  },
  {
   "cell_type": "code",
   "execution_count": null,
   "metadata": {},
   "outputs": [],
   "source": [
    "#dL=0.044;  # position offset between sensors along z axis for WALKMAN feet\n",
    "#dL=0.0346; # position offset between sensors along z axis for mini45/50 sensors \n",
    "#dL=0.1737; # New setup distance from from mini 45 ATI to the foot sensor.\n",
    "#dL=0.065;  # New setup distance from from mini 45 ATI to the HERI hand sensor.\n",
    "dL=0.159;  # New setup distance from from mini 45 ATI to the cogimon foot sensor.\n",
    "#dL=0.0549; # New setup distance from from mini 45 ATI to the HERI hand sensor for Singapore.\n"
   ]
  },
  {
   "cell_type": "code",
   "execution_count": null,
   "metadata": {},
   "outputs": [],
   "source": [
    "raw_col_names = [f'raw_{i}' for i in range(1,7)] \n",
    "ft_cols_name = str.split(\"fx fy fz tx ty tz\")\n",
    "ati_col_names = [f'ati_{s}' for s in ft_cols_name]\n",
    "cal_col_names = [f'cal_{s}' for s in ft_cols_name]\n",
    "\n",
    "col_names =[\"time_ns\"]+raw_col_names+ati_col_names\n",
    "# read local file\n",
    "data = pd.read_csv(\"sens_ones.txt\", sep=\"\\t\", names=col_names)\n",
    "# read from gitlab\n",
    "gitlab_file_arg = (\"hhmc-firmware/msp432-ft6\",\"calib/sens_1.txt\",\"calib\")\n",
    "#data = pd.read_csv(gitlab_raw_data(*gitlab_file_arg), sep=\"\\t\", names=col_names)\n",
    "\n",
    "#data = pd.DataFrame(np.arange(20).reshape(10,2))\n",
    "data.info()"
   ]
  },
  {
   "cell_type": "markdown",
   "metadata": {},
   "source": [
    "Prepare data\n",
    "- SG{i,v} ==> Strain Gauge raw data (sg1, sg2, sg3, sg4, sg5, sg6)\n",
    "- SGi used for identification of calib matrix, first half samples\n",
    "- SGv used for verification of calib matrix, seconda half samples\n",
    "- FT{i,v} ==> ATI Force Torque data (fx, fy, fz, tx, ty, tz)\n",
    "- FTi used for identification of calib matrix\n",
    "- FTv used for verification of calib matrix"
   ]
  },
  {
   "cell_type": "code",
   "execution_count": null,
   "metadata": {},
   "outputs": [],
   "source": [
    "ign = 10000\n",
    "drop_idx = True\n",
    "half_idx = math.ceil(len(data)/2)\n",
    "_1st_half = data[ign:half_idx]\n",
    "_2nd_half = data[ign+half_idx:len(data)]\n",
    "SG = data[raw_col_names].copy().reset_index(drop=drop_idx)\n",
    "SGi = _1st_half[raw_col_names].copy().reset_index(drop=drop_idx)\n",
    "SGv = _2nd_half[raw_col_names].copy().reset_index(drop=drop_idx)\n",
    "FTi = _1st_half[ati_col_names].copy().reset_index(drop=drop_idx)\n",
    "FTv = _2nd_half[ati_col_names].copy().reset_index(drop=drop_idx)\n",
    "# Map measured ATI Tx,Ty to our sensor frame at distance dL along z axis\n",
    "# correct Tx torque for the dL    Tx_IIT = Tx_ATI-Fy_ATI*DL\n",
    "FTi.ati_tx -= FTi.ati_fy*dL\n",
    "# correct Ty torque for the dL    Ty_IIT = Ty_ATI+Fx_ATI*DL\n",
    "FTi.ati_ty += FTi.ati_fx*dL\n",
    "# correct Tx torque for the dL    Tx_IIT = Tx_ATI-Fy_ATI*DL\n",
    "FTv.ati_tx -= FTv.ati_fy*dL\n",
    "# correct Ty torque for the dL    Ty_IIT = Ty_ATI+Fx_ATI*DL\n",
    "FTv.ati_ty += FTv.ati_fx*dL\n",
    "\n",
    "#SGi_inv = pd.DataFrame(np.linalg.pinv(SGi.values), SGi.columns, SGi.index)\n",
    "#npSGi_inv = SGi_inv.to_numpy()\n",
    "\n",
    "npSG = SG.to_numpy()\n",
    "npSGi = SGi.to_numpy()\n",
    "npSGv = SGv.to_numpy()\n",
    "npFTi = FTi.to_numpy()\n",
    "\n",
    "npSGi_inv = np.linalg.pinv(npSGi)\n",
    "npCM = np.dot(npSGi_inv,npFTi)\n",
    "condCM = np.linalg.cond(npCM)\n",
    "print(f\"CM condition number {condCM}\")\n",
    "npFc= np.dot(npSGv,npCM)\n",
    "Fc = pd.DataFrame(data=npFc.astype(float),columns=cal_col_names)\n",
    "\n",
    "data = data.join(pd.DataFrame(data=np.dot(npSG,npCM).astype(float),columns=cal_col_names))\n",
    "\n",
    "# Compute mean square errors\n",
    "F_residual = Fc - FTv\n",
    "\n"
   ]
  },
  {
   "cell_type": "code",
   "execution_count": null,
   "metadata": {},
   "outputs": [],
   "source": []
  },
  {
   "cell_type": "code",
   "execution_count": null,
   "metadata": {},
   "outputs": [],
   "source": [
    "#dfCM = pd.DataFrame(data=npCM.T.astype(float))\n",
    "#dfCM.to_csv('cal_mat.txt', sep=',', header=False, float_format='%.6f', index=False)\n",
    "#npCM.T.tofile('cal_mat.bin',format='%f')\n",
    "#np.fromfile('cal_mat.bin')\n",
    "#np.identity(6, dtype='float32').tofile('ones.bin',format='%f')\n",
    "#np.fromfile('ones.bin', dtype='float32')"
   ]
  },
  {
   "cell_type": "code",
   "execution_count": null,
   "metadata": {},
   "outputs": [],
   "source": [
    "ret = write_bin(np.identity(6),\"ones.bin\")\n",
    "ret = write_bin(npCM.T,\"cal_mat.bin\")\n"
   ]
  },
  {
   "cell_type": "code",
   "execution_count": null,
   "metadata": {},
   "outputs": [],
   "source": [
    "import matplotlib.pyplot as plt\n",
    "import seaborn as sns\n",
    "sns.set()\n",
    "\n",
    "fig, axes = plt.subplots(7,1, sharex='col', figsize=(25,25))\n",
    "plt.tight_layout()\n",
    "\n",
    "#data[col_names[1:]].plot(ax=axes[0,0])\n",
    "data[raw_col_names].plot(ax=axes[0])\n",
    "data[ati_col_names].plot(ax=axes[1])\n",
    "data[cal_col_names].plot(ax=axes[2])\n",
    "data[raw_col_names[:3]].plot(ax=axes[3])\n",
    "data[ati_col_names[:3]].plot(ax=axes[4])\n",
    "data[raw_col_names[-3:]].plot(ax=axes[5])\n",
    "data[ati_col_names[-3:]].plot(ax=axes[6])\n"
   ]
  },
  {
   "cell_type": "code",
   "execution_count": null,
   "metadata": {},
   "outputs": [],
   "source": [
    "fig, axes = plt.subplots(4,4, sharex='col', figsize=(25,15))\n",
    "plt.tight_layout()\n",
    "#https://matplotlib.org/stable/users/dflt_style_changes.html\n",
    "colors = list(map(lambda x:'C'+str(x),range(10))) \n",
    "colors = [f'C{i}' for i in range(10)] \n",
    "\n",
    "def plot_data(ax, df, col_names, sub_col):\n",
    "    df[col_names].plot(ax=axes[0,sub_col])\n",
    "    for i,c in enumerate(col_names,start=1) :\n",
    "        df[c].plot(ax=ax[i,sub_col],color=colors[i-1], label=c)\n",
    "     \n",
    "plot_data(axes, SGi, raw_col_names[:3],  0)\n",
    "plot_data(axes, FTi, ati_col_names[:3], 1)\n",
    "plot_data(axes, SGi, raw_col_names[-3:], 2)\n",
    "plot_data(axes, FTi, ati_col_names[-3:], 3)\n",
    "\n",
    "#plot_data(axes, F_residual, ft_col_names[:3], 2)\n",
    "#plot_data(axes, F_residual, ft_col_names[-3:], 4)\n"
   ]
  },
  {
   "cell_type": "code",
   "execution_count": null,
   "metadata": {},
   "outputs": [],
   "source": [
    "fig, axes = plt.subplots(2,1, sharex='col', figsize=(25,15))\n",
    "plt.tight_layout()\n",
    "\n",
    "Fc.plot(ax=axes[0])\n",
    "FTv.plot(ax=axes[1])\n"
   ]
  },
  {
   "cell_type": "code",
   "execution_count": null,
   "metadata": {},
   "outputs": [],
   "source": [
    "#fig, axes = plt.subplots(6,1, sharex='col', figsize=(25,15))\n",
    "#plt.tight_layout()\n",
    "\n",
    "#F_residual.fx.plot(kind='hist',bins=100)\n",
    "F_residual.iloc[1].plot()"
   ]
  },
  {
   "cell_type": "code",
   "execution_count": null,
   "metadata": {},
   "outputs": [],
   "source": []
  }
 ],
 "metadata": {
  "interpreter": {
   "hash": "2a2dbedcade76137bd4b02e68471641a7c3e00d6aa0c62804fd350fa1a729d65"
  },
  "kernelspec": {
   "display_name": "Python 3.9.7 64-bit ('data-science': conda)",
   "name": "python3"
  },
  "language_info": {
   "codemirror_mode": {
    "name": "ipython",
    "version": 3
   },
   "file_extension": ".py",
   "mimetype": "text/x-python",
   "name": "python",
   "nbconvert_exporter": "python",
   "pygments_lexer": "ipython3",
   "version": "3.9.7"
  },
  "orig_nbformat": 4
 },
 "nbformat": 4,
 "nbformat_minor": 2
}
