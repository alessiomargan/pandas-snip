{
 "cells": [
  {
   "cell_type": "code",
   "execution_count": null,
   "metadata": {},
   "outputs": [],
   "source": [
    "import os\n",
    "import pandas as pd\n",
    "import math\n",
    "import numpy as np\n",
    "import requests\n",
    "from io import StringIO\n",
    "\n",
    "pd.__version__"
   ]
  },
  {
   "cell_type": "code",
   "execution_count": null,
   "metadata": {},
   "outputs": [],
   "source": [
    "def gitlab_raw_data(prj_id,prj_file,branch):\n",
    "    '''\n",
    "    read remote raw file from gitlab using api\n",
    "    GET /projects/:id/repository/files/:file_path/raw\n",
    "    file_path (required) - URL encoded full path to new file, such as lib%2Fclass%2Erb.\n",
    "    ref (optional) - The name of branch, tag or commit. Default is the HEAD of the project.\n",
    "    '''\n",
    "    prj_id_q = requests.utils.quote(prj_id,safe='')\n",
    "    prj_file_q = requests.utils.quote(prj_file,safe='')\n",
    "    #data_url = \"https://gitlab.advr.iit.it/api/v4/projects/hhmc-firmware%2Fmsp432-ft6/repository/files/calib%2Fsens_2%2Etxt/raw?ref=calib\"\n",
    "    data_url = f\"https://gitlab.advr.iit.it/api/v4/projects/{prj_id_q}/repository/files/{prj_file_q}/raw?ref={branch}\"\n",
    "    print(data_url)\n",
    "    headers = {\"PRIVATE-TOKEN\": \"MCBxyjeT61Bngox7Ktas\"}\n",
    "    return StringIO(requests.get(data_url,headers=headers).text)"
   ]
  },
  {
   "cell_type": "code",
   "execution_count": null,
   "metadata": {},
   "outputs": [],
   "source": [
    "#dL=0.044;  # position offset between sensors along z axis for WALKMAN feet\n",
    "#dL=0.0346; # position offset between sensors along z axis for mini45/50 sensors \n",
    "#dL=0.1737; # New setup distance from from mini 45 ATI to the foot sensor.\n",
    "#dL=0.065;  # New setup distance from from mini 45 ATI to the HERI hand sensor.\n",
    "dL=0.159;  # New setup distance from from mini 45 ATI to the cogimon foot sensor.\n",
    "#dL=0.0549; # New setup distance from from mini 45 ATI to the HERI hand sensor for Singapore.\n"
   ]
  },
  {
   "cell_type": "code",
   "execution_count": null,
   "metadata": {},
   "outputs": [],
   "source": [
    "sg_col_names =str.split(\"sg1 sg2 sg3 sg4 sg5 sg6\")\n",
    "ft_col_names =str.split(\"fx fy fz tx ty tz\")\n",
    "col_names =[\"time_ns\"]+sg_col_names+ft_col_names\n",
    "# read local file\n",
    "#data = pd.read_csv(\"sens.txt\", sep=\"\\t\", names=col_names)\n",
    "# read from gitlab\n",
    "gitlab_file_arg = (\"hhmc-firmware/msp432-ft6\",\"calib/sens_1.txt\",\"calib\")\n",
    "data = pd.read_csv(gitlab_raw_data(*gitlab_file_arg), sep=\"\\t\", names=col_names)\n",
    "\n",
    "#data = pd.DataFrame(np.arange(20).reshape(10,2))\n",
    "data.info()"
   ]
  },
  {
   "cell_type": "markdown",
   "metadata": {},
   "source": [
    "Prepare data\n",
    "- SG{i,v} ==> Strain Gauge raw data (sg1, sg2, sg3, sg4, sg5, sg6)\n",
    "- SGi used for identification of calib matrix, first half samples\n",
    "- SGv used for verification of calib matrix, seconda half samples\n",
    "- FT{i,v} ==> ATI Force Torque data (fx, fy, fz, tx, ty, tz)\n",
    "- FTi used for identification of calib matrix\n",
    "- FTv used for verification of calib matrix"
   ]
  },
  {
   "cell_type": "code",
   "execution_count": null,
   "metadata": {},
   "outputs": [],
   "source": [
    "ign = 50 #1000\n",
    "half_idx = math.ceil(len(data)/2)\n",
    "_1st_half = data[ign:half_idx]\n",
    "_2nd_half = data[ign+half_idx:len(data)]\n",
    "SGi = _1st_half[col_names[1:7]].copy().reset_index(drop=True)\n",
    "SGv = _2nd_half[col_names[1:7]].copy().reset_index(drop=True)\n",
    "FTi = _2nd_half[col_names[7:13]].copy().reset_index(drop=True)\n",
    "FTv = _2nd_half[col_names[7:13]].copy().reset_index(drop=True)\n",
    "# Map measured ATI Tx,Ty to our sensor frame at distance dL along z axis\n",
    "# correct Tx torque for the dL    Tx_IIT = Tx_ATI-Fy_ATI*DL\n",
    "FTi.tx -= FTi.fy*dL\n",
    "# correct Ty torque for the dL    Ty_IIT = Ty_ATI+Fx_ATI*DL\n",
    "FTi.ty += FTi.fx*dL\n",
    "# correct Tx torque for the dL    Tx_IIT = Tx_ATI-Fy_ATI*DL\n",
    "FTv.tx -= FTv.fy*dL\n",
    "# correct Ty torque for the dL    Ty_IIT = Ty_ATI+Fx_ATI*DL\n",
    "FTv.ty += FTv.fx*dL"
   ]
  },
  {
   "cell_type": "code",
   "execution_count": null,
   "metadata": {},
   "outputs": [],
   "source": [
    "#SGi_inv = pd.DataFrame(np.linalg.pinv(SGi.values), SGi.columns, SGi.index)\n",
    "#npSGi_inv = SGi_inv.to_numpy()\n",
    "\n",
    "npSGi = SGi.to_numpy()\n",
    "npSGv = SGv.to_numpy()\n",
    "\n",
    "npSGi_inv = np.linalg.pinv(npSGi)\n",
    "npFTi = FTi.to_numpy()\n",
    "npCM = np.dot(npSGi_inv,npFTi)\n",
    "condCM = np.linalg.cond(npCM)\n",
    "print(f\"CM condition number {condCM}\")\n",
    "\n",
    "npFc= np.dot(npSGv,npCM)\n",
    "Fc = pd.DataFrame(data=npFc.astype(float),columns=ft_col_names)\n",
    "\n",
    "# Compute mean square errors\n",
    "# Fx_residual = Fc(:,1)-FTv(:,1);\n",
    "F_residual = Fc - FTv\n"
   ]
  },
  {
   "cell_type": "code",
   "execution_count": null,
   "metadata": {},
   "outputs": [],
   "source": [
    "#dfCM = pd.DataFrame(data=npCM.T.astype(float))\n",
    "#dfCM.to_csv('cal_mat.txt', sep=',', header=False, float_format='%.6f', index=False)\n",
    "#npCM.T.tofile('cal_mat.bin',format='%f')\n",
    "#np.fromfile('cal_mat.bin')\n",
    "#np.identity(6, dtype='float32').tofile('ones.bin',format='%f')\n",
    "#np.fromfile('ones.bin', dtype='float32')"
   ]
  },
  {
   "cell_type": "code",
   "execution_count": null,
   "metadata": {},
   "outputs": [],
   "source": [
    "def write_mat_sig(np_mat, filename):\n",
    "    (name,ext) = os.path.splitext(filename)\n",
    "    orig_shape = np_mat.shape\n",
    "\n",
    "    # write txt file\n",
    "    dfMat = pd.DataFrame(data=np_mat.astype(float))\n",
    "    dfMat.to_csv(name+'.txt', sep=',', header=False, float_format='%.6f', index=False)\n",
    "    #np_mat.tofile(name+'.txt', sep=',', format='%.6f')\n",
    "    \n",
    "    with open(filename, \"wb\") as f:\n",
    "        f.write(bytearray([0xFE,0xCA,0x00,0x00])+np_mat.astype('float32').tobytes())\n",
    "        #f.write(bytearray([0xFE,0xCA,0x00,0x00]))\n",
    "        #np_mat.astype('float32').tofile(f)\n",
    "    # read back \n",
    "    with open(filename, \"rb\") as f:\n",
    "        np_back = np.fromfile(f,dtype='float32',offset=4).reshape(orig_shape)\n",
    "\n",
    "    print( np.array_equiv(np_mat,np_back) )\n",
    "    print(np_back)\n",
    "    print(f\"m shape {orig_shape} {np_back.shape}\")\n",
    "    print(f\"m bytes {len(np_back.tobytes())}\")\n",
    "\n",
    "    return np_back      \n",
    "\n",
    "\n",
    "ret = write_mat_sig(np.identity(6),\"ones.bin\")\n",
    "ret = write_mat_sig(npCM.T,\"cal_mat.bin\")\n"
   ]
  },
  {
   "cell_type": "code",
   "execution_count": null,
   "metadata": {},
   "outputs": [],
   "source": [
    "import matplotlib.pyplot as plt\n",
    "import seaborn as sns\n",
    "\n",
    "sns.set()\n",
    "fig, axes = plt.subplots(4,4, sharex='col', figsize=(25,15))\n",
    "plt.tight_layout()\n",
    "\n",
    "def plot_data(ax, df, col_names, sub_col):\n",
    "    df[col_names].plot(ax=axes[0,sub_col])\n",
    "    for i,c in enumerate(col_names,start=1) :\n",
    "        df[c].plot(ax=ax[i,sub_col],label=c)\n",
    "     \n",
    "plot_data(axes, SGi, sg_col_names[:3],  0)\n",
    "plot_data(axes, FTi, ft_col_names[:3],  1)\n",
    "plot_data(axes, SGi, sg_col_names[-3:], 2)\n",
    "plot_data(axes, FTi, ft_col_names[-3:], 3)\n",
    "\n",
    "#plot_data(axes, F_residual, ft_col_names[:3], 2)\n",
    "#plot_data(axes, F_residual, ft_col_names[-3:], 4)\n"
   ]
  },
  {
   "cell_type": "markdown",
   "metadata": {},
   "source": []
  }
 ],
 "metadata": {
  "interpreter": {
   "hash": "2a2dbedcade76137bd4b02e68471641a7c3e00d6aa0c62804fd350fa1a729d65"
  },
  "kernelspec": {
   "display_name": "Python 3.9.7 64-bit ('data-science': conda)",
   "name": "python3"
  },
  "language_info": {
   "codemirror_mode": {
    "name": "ipython",
    "version": 3
   },
   "file_extension": ".py",
   "mimetype": "text/x-python",
   "name": "python",
   "nbconvert_exporter": "python",
   "pygments_lexer": "ipython3",
   "version": "3.9.7"
  },
  "orig_nbformat": 4
 },
 "nbformat": 4,
 "nbformat_minor": 2
}
